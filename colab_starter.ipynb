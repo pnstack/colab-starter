{
  "nbformat": 4,
  "nbformat_minor": 0,
  "metadata": {
    "colab": {
      "provenance": [],
      "gpuType": "T4",
      "authorship_tag": "ABX9TyOc8F2TsBWKkir1ezhYLqj/",
      "include_colab_link": true
    },
    "kernelspec": {
      "name": "python3",
      "display_name": "Python 3"
    },
    "language_info": {
      "name": "python"
    },
    "accelerator": "GPU"
  },
  "cells": [
    {
      "cell_type": "markdown",
      "metadata": {
        "id": "view-in-github",
        "colab_type": "text"
      },
      "source": [
        "<a href=\"https://colab.research.google.com/github/npv2k1/colab-starter/blob/main/colab_starter.ipynb\" target=\"_parent\"><img src=\"https://colab.research.google.com/assets/colab-badge.svg\" alt=\"Open In Colab\"/></a>"
      ]
    },
    {
      "cell_type": "code",
      "execution_count": null,
      "metadata": {
        "id": "sg101fOojHeA"
      },
      "outputs": [],
      "source": [
        "# Connect google drive to google colab\n",
        "from google.colab import drive\n",
        "drive.mount('/content/gdrive')"
      ]
    },
    {
      "cell_type": "code",
      "source": [
        "# Install openssh server\n",
        "!apt update ; apt install openssh-server\n",
        "!echo 'PermitRootLogin yes' >> /etc/ssh/sshd_config\n",
        "!mkdir /root/.ssh\n",
        "!echo 'ssh-rsa AAAAB3NzaC1yc2EAAAADAQABAAABgQCf9v5Zr+tbkFhAYaLiih5CkNjs8YjUNuy46AKUHy/RcLsxkJNoL3XJ1f+a5RpdmALJocJkQFGmf5eq39ZaY/vgezn7EuXiI+czb7eK+5Nq4Wj9jtUujuzVszZYN/dX5dmDR62/DN8ZyZbAwrimpPKnaqOywfIrP6mVpbuo855f75nT4sT1t0A8pJ4+Qi1TNOEmWngz2MlbVcSZW5nnTa+PL2l16uklX5QY50uD1NxgWcs0rae52tbBqm1vrpNihxC1jQ02xL6XmBYRhJQi67QAxmUE6vKseG3MHGESbrkjhbr+0L59nheSn26kCPuO23kjGRKtHw5Qc+2IR+E73foMQ61qCVN5WO8OyjxujJuLF4mEmu8u61rzttiaHmPn6RYYYtGXTFg7HmQcBLwDqppUejH4ku6xN/aSZFeJNMFs7wJcIJ1GvtC9bqtmhrbe1tdZNaGDjC+KHgE8YyN3fo5JYqDsIpXrX/FPKRsJtwYsce67r6D6Rxi2OS9fe6iyzVc= nguyen@DESKTOP-Nguyen' >/root/.ssh/authorized_keys\n",
        "!service ssh start"
      ],
      "metadata": {
        "id": "VJwPuLlEsdOr"
      },
      "execution_count": null,
      "outputs": []
    },
    {
      "cell_type": "code",
      "source": [
        "# Install tailscale VPN and save state to google drive\n",
        "!curl -fsSL https://tailscale.com/install.sh | sh\n",
        "!nohup sudo tailscaled --tun=userspace-networking --socks5-server=localhost:1055 --state=/content/gdrive/MyDrive/tailscaled.state --socket=/var/run/tailscale/tailscaled.sock --port 41641 &\n",
        "!until tailscale up; do sleep 1; done"
      ],
      "metadata": {
        "id": "HoEWazMzkOTc"
      },
      "execution_count": null,
      "outputs": []
    },
    {
      "cell_type": "code",
      "source": [
        "!tailscale ip"
      ],
      "metadata": {
        "id": "fceFRQlNwivp"
      },
      "execution_count": null,
      "outputs": []
    },
    {
      "cell_type": "code",
      "source": [
        "!nvidia-smi"
      ],
      "metadata": {
        "id": "VX2pj4yP1Sl5"
      },
      "execution_count": null,
      "outputs": []
    }
  ]
}